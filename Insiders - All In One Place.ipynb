{
 "cells": [
  {
   "cell_type": "markdown",
   "metadata": {},
   "source": [
    "# Insiders - All In One Place\n",
    "\n",
    "## The All In One Place company\n",
    "\n",
    "The All in One Place company is a Multibrand Outlet company. It sells second-line products of several brands at a lower price, through an e-commerce.\n",
    "\n",
    "In just over 1 year of operation, the marketing team realized that some customers in its base buy more expensive products, with high frequency and end up contributing a significant portion of the company's revenue.\n",
    "\n",
    "Based on this perception, the marketing team will launch a loyalty program for the best customers in the base, called Insiders. But the team does not have an advanced knowledge of data analysis to elect program participants.\n",
    "\n",
    "For this reason, the marketing team asked the data team to select eligible customers for the program, using advanced data manipulation techniques.\n",
    "\n",
    "---\n",
    "\n",
    "## Project Objectives\n",
    "\n",
    "You are part of All In One Place's team of data scientists who need to determine who are the eligible customers to be part of Insiders. In possession of this list, the Marketing team will carry out a sequence of personalized and exclusive actions to the group, in order to increase sales and purchase frequency.\n",
    "\n",
    "As a result of this project, you are expected to submit a list of people eligible to participate in the Insiders program, along with a report answering the following questions:\n",
    "\n",
    "1. Who are the people eligible to participate in the Insiders program?\n",
    "2. How many customers will be part of the group?\n",
    "3. What are the main characteristics of these customers?\n",
    "4. What is the percentage of revenue contribution, coming from Insiders?\n",
    "5. What is this group's revenue expectation for the coming months?\n",
    "6. What are the conditions for a person to be eligible for Insiders?\n",
    "7. What are the conditions for a person to be removed from Insiders?\n",
    "8. What is the guarantee that the Insiders program is better than the rest of the base?\n",
    "9. What actions can the marketing team take to increase revenue?\n",
    "\n",
    "---\n",
    "\n",
    "## Data \n",
    "\n",
    "The dataset is available on the [Kaggle platform](https://www.kaggle.com/vik2012kvs/high-value-customers-identification).\n",
    "\n",
    "Each line represents a sale transaction, which took place between the period of November 2016 and December 2017.\n",
    "\n",
    "The dataset includes the following information:\n",
    "* InvoiceNo: Invoice number (A 6-digit integral number uniquely assigned to each transaction)\n",
    "* StockCode: Product (item) code\n",
    "* Description: Product (item) name\n",
    "* Quantity: The quantities of each product (item) per transaction\n",
    "* InvoiceDate: The day when each transaction was generated\n",
    "* UnitPrice: Unit price (Product price per unit)\n",
    "* CustomerID: Customer number (Unique ID assigned to each customer)\n",
    "* Country: Country name (The name of the country where each customer resides)"
   ]
  },
  {
   "cell_type": "markdown",
   "metadata": {},
   "source": [
    "# Summary\n",
    "* [1. Invoices Dataframe](#1.)\n",
    "    * [1.1 Missing Values](#1.1)\n",
    "    * [1.2 New Features](#1.2)\n",
    "    * [1.3 Negative Quantities](#1.3)\n",
    "    * [1.4 Data Analysis](#1.4)\n",
    "* [2. Customers Dataframe](#2.)\n",
    "    * [2.1 Dataframe](#2.1)\n",
    "    * [2.2 New Features](#2.2)\n",
    "    * [2.3 Data Analysis](#2.3)\n",
    "    * [2.4 Data Preprocessing](#2.4)\n",
    "* [3. Model](#3.)\n",
    "    * [3.1 K-Means](#3.1)\n",
    "    * [3.2 Agglomerative Clustering](#3.2)\n",
    "    * [3.3 DBSCAN](#3.3)\n",
    "* [4. Conclusion](#4.)\n",
    "    * [4.1 Who are the people eligible to participate in the Insiders program?](#4.1)\n",
    "    * [4.2 How many customers will be part of the group?](#4.2)\n",
    "    * [4.3 What are the main characteristics of these customers?](#4.3)\n",
    "    * [4.4 What is the percentage of revenue contribution, coming from Insiders?](#4.4)\n",
    "    * [4.5 What is this group's revenue expectation for the coming months?](#4.5)\n",
    "    * [4.6 What are the conditions for a person to be eligible for Insiders?](#4.6)\n",
    "    * [4.7 What are the conditions for a person to be removed from Insiders?](#4.7)\n",
    "    * [4.8 What is the guarantee that the Insiders program is better than the rest of the base?](#4.8)\n",
    "    * [4.9 What actions can the marketing team take to increase revenue?](#4.9)"
   ]
  },
  {
   "cell_type": "markdown",
   "metadata": {},
   "source": [
    "# References\n",
    "* [Targeting your most valuable customers in a post-Pareto world](https://www.dynamicyield.com/lesson/targeting-high-value-customers/)\n",
    "* [What Is a High-Value Customer? [+5 Ways to Identify Them]](https://blog.hubspot.com/service/high-value-customer)\n",
    "\n",
    "# Import the python libraries"
   ]
  },
  {
   "cell_type": "code",
   "execution_count": 1,
   "metadata": {},
   "outputs": [
    {
     "ename": "ModuleNotFoundError",
     "evalue": "No module named 'seaborn'",
     "output_type": "error",
     "traceback": [
      "\u001b[1;31m---------------------------------------------------------------------------\u001b[0m",
      "\u001b[1;31mModuleNotFoundError\u001b[0m                       Traceback (most recent call last)",
      "\u001b[1;32mC:\\Users\\ISSAMU~1\\AppData\\Local\\Temp/ipykernel_72464/4007493851.py\u001b[0m in \u001b[0;36m<module>\u001b[1;34m\u001b[0m\n\u001b[0;32m      5\u001b[0m \u001b[1;31m# data visualization\u001b[0m\u001b[1;33m\u001b[0m\u001b[1;33m\u001b[0m\u001b[1;33m\u001b[0m\u001b[0m\n\u001b[0;32m      6\u001b[0m \u001b[1;32mimport\u001b[0m \u001b[0mmatplotlib\u001b[0m\u001b[1;33m.\u001b[0m\u001b[0mpyplot\u001b[0m \u001b[1;32mas\u001b[0m \u001b[0mplt\u001b[0m\u001b[1;33m\u001b[0m\u001b[1;33m\u001b[0m\u001b[0m\n\u001b[1;32m----> 7\u001b[1;33m \u001b[1;32mimport\u001b[0m \u001b[0mseaborn\u001b[0m \u001b[1;32mas\u001b[0m \u001b[0msns\u001b[0m\u001b[1;33m\u001b[0m\u001b[1;33m\u001b[0m\u001b[0m\n\u001b[0m\u001b[0;32m      8\u001b[0m \u001b[1;32mimport\u001b[0m \u001b[0mmatplotlib\u001b[0m\u001b[1;33m.\u001b[0m\u001b[0mticker\u001b[0m \u001b[1;32mas\u001b[0m \u001b[0mmtick\u001b[0m\u001b[1;33m\u001b[0m\u001b[1;33m\u001b[0m\u001b[0m\n\u001b[0;32m      9\u001b[0m \u001b[1;33m\u001b[0m\u001b[0m\n",
      "\u001b[1;31mModuleNotFoundError\u001b[0m: No module named 'seaborn'"
     ]
    }
   ],
   "source": [
    "# data analysis\n",
    "import pandas as pd\n",
    "import numpy as np\n",
    "\n",
    "# data visualization\n",
    "import matplotlib.pyplot as plt\n",
    "import seaborn as sns\n",
    "import matplotlib.ticker as mtick\n",
    "\n",
    "# machine learning\n",
    "import sklearn.cluster as cluster\n",
    "from tqdm import tqdm\n",
    "from sklearn.decomposition import PCA\n",
    "from sklearn.preprocessing import StandardScaler\n",
    "from sklearn.metrics import silhouette_score\n",
    "from scipy.cluster.hierarchy import ward, dendrogram\n",
    "from sklearn.neighbors import NearestCentroid\n",
    "from scipy.spatial import distance"
   ]
  },
  {
   "cell_type": "markdown",
   "metadata": {},
   "source": [
    "# 1. Invoices Dataframe <a class='anchor' id='1.'></a>"
   ]
  },
  {
   "cell_type": "code",
   "execution_count": null,
   "metadata": {},
   "outputs": [],
   "source": [
    "df_inv = pd.read_csv('csv/Ecommerce.csv', encoding='ISO-8859-1')\n",
    "df_inv.head(10)"
   ]
  },
  {
   "cell_type": "code",
   "execution_count": null,
   "metadata": {},
   "outputs": [],
   "source": [
    "df_inv.info()"
   ]
  },
  {
   "cell_type": "code",
   "execution_count": null,
   "metadata": {},
   "outputs": [],
   "source": [
    "df_inv.describe(include='all')"
   ]
  },
  {
   "cell_type": "markdown",
   "metadata": {},
   "source": [
    "## 1.1 Missing values <a class='anchor' id='1.1'></a>"
   ]
  },
  {
   "cell_type": "code",
   "execution_count": null,
   "metadata": {},
   "outputs": [],
   "source": [
    "print(f'Only features contained missing value in Training Dataset')\n",
    "temp = df_inv.isnull().sum()\n",
    "print(temp.loc[temp!=0], '\\n')"
   ]
  },
  {
   "cell_type": "markdown",
   "metadata": {},
   "source": [
    "* Since we want to identify which customers are tthe most valued ones to the company, the rows with missing CustomerID are not relevant and can be dropped\n",
    "* We can drop the Unnamed: 8 column, since it doesn't have any value\n",
    "* We can ignore the missing values from the column Description, because the column StockCode is a reference to the same product and doesn't have any missing values"
   ]
  },
  {
   "cell_type": "code",
   "execution_count": null,
   "metadata": {},
   "outputs": [],
   "source": [
    "df_inv.drop('Unnamed: 8', axis=1, inplace=True)\n",
    "df_inv.drop(df_inv[df_inv['CustomerID'].isnull()].index, inplace=True)\n",
    "df_inv.head()"
   ]
  },
  {
   "cell_type": "code",
   "execution_count": null,
   "metadata": {},
   "outputs": [],
   "source": [
    "df_inv.info()"
   ]
  },
  {
   "cell_type": "markdown",
   "metadata": {},
   "source": [
    "As we can see, all the missing values from the column Description were removed when we deleted the rows that didn't have a CustomerID value"
   ]
  },
  {
   "cell_type": "markdown",
   "metadata": {},
   "source": [
    "## 1.2 New Features <a class='anchor' id='1.2'></a>\n",
    "\n",
    "* TotalValue: Total value of the transaction \n",
    "* InvoiceYear: Year when the transaction was generated\n",
    "* InvoiceMonth: Month when the transaction was generated\n",
    "* InvoiceSemester: Semester when the transaction was generated"
   ]
  },
  {
   "cell_type": "code",
   "execution_count": null,
   "metadata": {},
   "outputs": [],
   "source": [
    "df_inv['TotalValue'] = df_inv['Quantity']*df_inv['UnitPrice']\n",
    "df_inv = pd.concat([df_inv, df_inv['InvoiceDate'].str.extract(r'(?P<InvoiceMonth>[A-Za-z]{3})-(?P<InvoiceYear>\\d{2})')], axis=1)\n",
    "df_inv['InvoiceMonth'] = pd.to_datetime(df_inv.InvoiceMonth, format='%b').dt.month\n",
    "df_inv['InvoiceSemester'] = df_inv['InvoiceMonth'].apply(lambda x: 1 if x <= 6 else 2)\n",
    "df_inv.head()"
   ]
  },
  {
   "cell_type": "markdown",
   "metadata": {},
   "source": [
    "## 1.3 Negative Quantities <a class='anchor' id='1.3'></a>"
   ]
  },
  {
   "cell_type": "code",
   "execution_count": null,
   "metadata": {},
   "outputs": [],
   "source": [
    "df_inv.describe()"
   ]
  },
  {
   "cell_type": "code",
   "execution_count": null,
   "metadata": {},
   "outputs": [],
   "source": [
    "df_inv[df_inv['Quantity'] < 0].head()"
   ]
  },
  {
   "cell_type": "code",
   "execution_count": null,
   "metadata": {},
   "outputs": [],
   "source": [
    "sorted(df_inv[df_inv['Quantity'] < 0].where(df_inv['Description'].str.startswith('D'))['Description'].dropna().unique())"
   ]
  },
  {
   "cell_type": "code",
   "execution_count": null,
   "metadata": {},
   "outputs": [],
   "source": [
    "df_inv[df_inv['Quantity'] < 0].where(df_inv['Description'] == 'Discount')['StockCode'].dropna().unique()"
   ]
  },
  {
   "cell_type": "markdown",
   "metadata": {},
   "source": [
    "As we can see there are no Description of 'Discount' misspelled and the only type of discount transactions are defined with the StockCode of 'D'"
   ]
  },
  {
   "cell_type": "code",
   "execution_count": null,
   "metadata": {},
   "outputs": [],
   "source": [
    "len(df_inv[df_inv['Quantity'] < 0])"
   ]
  },
  {
   "cell_type": "code",
   "execution_count": null,
   "metadata": {},
   "outputs": [],
   "source": [
    "len(df_inv[df_inv['Quantity'] < 0].where(df_inv['InvoiceNo'].str.contains('C')))"
   ]
  },
  {
   "cell_type": "markdown",
   "metadata": {},
   "source": [
    "* All negative quantities transactions contains a C on it's InvoiceNo.\n",
    "* We will consider these transactions as product returns and discounts (transactions described as discounts)"
   ]
  },
  {
   "cell_type": "markdown",
   "metadata": {},
   "source": [
    "## 1.4 Data Analysis <a class='anchor' id='1.4'></a>"
   ]
  },
  {
   "cell_type": "code",
   "execution_count": null,
   "metadata": {},
   "outputs": [],
   "source": [
    "def add_value_labels(ax, orientation, xspace=0, yspace=0, percentage=False):\n",
    "    for rect in ax.patches:\n",
    "        # Get X and Y placement of label from rect.\n",
    "        if orientation == 'v':\n",
    "            y_value = rect.get_height()\n",
    "            x_value = rect.get_x() + rect.get_width() / 2\n",
    "            label = rect.get_height()\n",
    "        elif orientation == 'h':\n",
    "            y_value = rect.get_y() + rect.get_height() / 4\n",
    "            x_value = rect.get_width()\n",
    "            label = rect.get_width()            \n",
    "\n",
    "        # Vertical alignment for positive values\n",
    "        va = 'bottom'\n",
    "\n",
    "        if percentage==True:\n",
    "            label = \"{:.1%}\".format(label)\n",
    "        else:\n",
    "            # Use Y value as label and format number with one decimal place\n",
    "            label = \"{:,.0f}\".format(label)\n",
    "\n",
    "        # Create annotation\n",
    "        ax.annotate(\n",
    "            label,                      # Use `label` as label\n",
    "            (x_value, y_value),         # Place label at end of the bar\n",
    "            xytext=(xspace, yspace),    # Vertically shift label by `space`\n",
    "            textcoords=\"offset points\", # Interpret `xytext` as offset in points\n",
    "            ha='center',                # Horizontally center label\n",
    "            va=va)                      # Vertically align label differently for\n",
    "                                        # positive and negative values."
   ]
  },
  {
   "cell_type": "markdown",
   "metadata": {},
   "source": [
    "### 1.4.1 Country\n",
    "\n",
    "* We could create an Insiders program for each country"
   ]
  },
  {
   "cell_type": "code",
   "execution_count": null,
   "metadata": {},
   "outputs": [],
   "source": [
    "df_country = df_inv.groupby('Country').agg({'TotalValue':np.sum, 'Quantity':np.sum, 'CustomerID':'nunique', 'InvoiceNo':'nunique', 'StockCode':len}).sort_values(by='TotalValue', ascending=False)\n",
    "df_country = df_country.rename(columns={'StockCode':'ProductTransactions'})\n",
    "df_country"
   ]
  },
  {
   "cell_type": "code",
   "execution_count": null,
   "metadata": {},
   "outputs": [],
   "source": [
    "print('The company has customers from {} different countries'.format(len(df_country)))"
   ]
  },
  {
   "cell_type": "code",
   "execution_count": null,
   "metadata": {},
   "outputs": [],
   "source": [
    "plt.figure(figsize=(20,10))\n",
    "ax = plt.subplot(111)\n",
    "plt.title('Revenue of customers by countries')\n",
    "ax.barh(df_country.index[::-1], df_country['TotalValue'][::-1])\n",
    "plt.show()"
   ]
  },
  {
   "cell_type": "code",
   "execution_count": null,
   "metadata": {},
   "outputs": [],
   "source": [
    "plt.figure(figsize=(20,10))\n",
    "ax = plt.subplot(111)\n",
    "plt.title('Number of customers by countries')\n",
    "ax.barh(df_country.index[::-1], df_country['CustomerID'][::-1])\n",
    "plt.show()"
   ]
  },
  {
   "cell_type": "markdown",
   "metadata": {},
   "source": [
    "* As we can see, the revenue and the number of customers come majorly from the United Kingdom\n",
    "* There are a lot of countries with less than 10 customers and some of them contribute a lot to the total revenue\n",
    "* Defining a limit percentage of eligible people in a country could leave a high value customer out of the Insiders program"
   ]
  },
  {
   "cell_type": "markdown",
   "metadata": {},
   "source": [
    "### 1.4.2 Date"
   ]
  },
  {
   "cell_type": "code",
   "execution_count": null,
   "metadata": {},
   "outputs": [],
   "source": [
    "df_month = df_inv.groupby('InvoiceMonth').agg({'TotalValue':np.sum, 'Quantity':np.sum, 'CustomerID':'nunique', 'InvoiceNo':'nunique', 'StockCode':len})\n",
    "df_month = df_month.rename(columns={'StockCode':'ProductTransactions'})\n",
    "df_month"
   ]
  },
  {
   "cell_type": "code",
   "execution_count": null,
   "metadata": {},
   "outputs": [],
   "source": [
    "plt.figure(figsize=(20,10))\n",
    "ax = plt.subplot(111)\n",
    "plt.title('Revenue contribution by month')\n",
    "ax.bar(df_month.index, df_month['TotalValue'])\n",
    "add_value_labels(ax, orientation='v', yspace=5)\n",
    "plt.show()"
   ]
  },
  {
   "cell_type": "code",
   "execution_count": null,
   "metadata": {},
   "outputs": [],
   "source": [
    "df_semester = df_inv.groupby('InvoiceSemester').agg({'TotalValue':np.sum, 'Quantity':np.sum, 'CustomerID':'nunique', 'InvoiceNo':'nunique', 'StockCode':len})\n",
    "df_semester = df_semester.rename(columns={'StockCode':'ProductTransactions'})\n",
    "df_semester"
   ]
  },
  {
   "cell_type": "code",
   "execution_count": null,
   "metadata": {},
   "outputs": [],
   "source": [
    "plt.figure(figsize=(20,10))\n",
    "ax = plt.subplot(111)\n",
    "plt.title('Revenue contribution by semester')\n",
    "ax.bar(df_semester.index, df_semester['TotalValue'])\n",
    "add_value_labels(ax, orientation='v', yspace=5)\n",
    "plt.locator_params(axis='x', nbins=2)\n",
    "plt.show()"
   ]
  },
  {
   "cell_type": "code",
   "execution_count": null,
   "metadata": {},
   "outputs": [],
   "source": [
    "df_semester.loc[1]/df_semester.loc[2]"
   ]
  },
  {
   "cell_type": "markdown",
   "metadata": {},
   "source": [
    "* The first semester of the year contributes almost 40% less than the second semester of the year in revenue\n",
    "* February and April are the worst months of the year in terms of revenue contribution\n",
    "* October and November are the best months of the year in terms of revenue contribution"
   ]
  },
  {
   "cell_type": "markdown",
   "metadata": {},
   "source": [
    "### 1.4.3 Products\n",
    "\n",
    "* All charts below show the 10 products that most contribute to the total revenue of the company\n",
    "* Returns of these products were already included to calculate the total value of the illustrated feature"
   ]
  },
  {
   "cell_type": "code",
   "execution_count": null,
   "metadata": {},
   "outputs": [],
   "source": [
    "df_products = df_inv.groupby('Description').agg({'TotalValue':np.sum, 'Quantity':np.sum, 'CustomerID':'nunique', 'InvoiceNo':'nunique', 'Country':'nunique', 'UnitPrice':np.mean}).sort_values(by='TotalValue', ascending=False)\n",
    "df_products.head(10)"
   ]
  },
  {
   "cell_type": "code",
   "execution_count": null,
   "metadata": {},
   "outputs": [],
   "source": [
    "print('The company has sold {} different products'.format(len(df_products)))"
   ]
  },
  {
   "cell_type": "code",
   "execution_count": null,
   "metadata": {},
   "outputs": [],
   "source": [
    "plt.figure(figsize=(20,10))\n",
    "ax = plt.subplot(111)\n",
    "plt.title('Top 10 revenue contributed products')\n",
    "ax.barh(df_products.index[:10][::-1], df_products['TotalValue'][:10][::-1])\n",
    "plt.xlabel('Revenue')\n",
    "add_value_labels(ax, orientation='h', xspace=25, yspace=5)\n",
    "plt.show()"
   ]
  },
  {
   "cell_type": "markdown",
   "metadata": {},
   "source": [
    "* The labels of the chart above indicate the exact amount that each product contributed"
   ]
  },
  {
   "cell_type": "code",
   "execution_count": null,
   "metadata": {},
   "outputs": [],
   "source": [
    "plt.figure(figsize=(20,10))\n",
    "ax = plt.subplot(111)\n",
    "plt.title('Top 10 revenue contributed products')\n",
    "ax.barh(df_products.index[:10][::-1], df_products['TotalValue'][:10][::-1]/df_products['TotalValue'].sum())\n",
    "plt.xlabel('Revenue')\n",
    "add_value_labels(ax, orientation='h', xspace=25, yspace=5, percentage=True)\n",
    "ax.xaxis.set_major_formatter(mtick.PercentFormatter(1.0))\n",
    "plt.show()"
   ]
  },
  {
   "cell_type": "code",
   "execution_count": null,
   "metadata": {},
   "outputs": [],
   "source": [
    "top_10_percentage_revenue = sum(df_products['TotalValue'][:10][::-1]/df_products['TotalValue'].sum())*100\n",
    "top_10_percentage_revenue"
   ]
  },
  {
   "cell_type": "markdown",
   "metadata": {},
   "source": [
    "* The labels of the chart above indicate the percentage that each product represents in the total revenue of the company\n",
    "* The sum of the total revenue of these 10 products represents about 8.2% of the total revenue of the company"
   ]
  },
  {
   "cell_type": "code",
   "execution_count": null,
   "metadata": {},
   "outputs": [],
   "source": [
    "plt.figure(figsize=(20,10))\n",
    "ax = plt.subplot(111)\n",
    "plt.title('Top 10 revenue contributed products')\n",
    "ax.barh(df_products.index[:10][::-1], df_products['Quantity'][:10][::-1])\n",
    "plt.xlabel('Quantity')\n",
    "add_value_labels(ax, orientation='h', xspace=25, yspace=5)\n",
    "plt.show()"
   ]
  },
  {
   "cell_type": "markdown",
   "metadata": {},
   "source": [
    "* The labels of the chart above indicate the quantity of these products that were sold in total"
   ]
  },
  {
   "cell_type": "code",
   "execution_count": null,
   "metadata": {},
   "outputs": [],
   "source": [
    "plt.figure(figsize=(20,10))\n",
    "ax = plt.subplot(111)\n",
    "plt.title(\"Top 10 revenue contributed products' unit price\")\n",
    "ax.barh(df_products.index[:10][::-1], df_products['UnitPrice'][:10][::-1])\n",
    "plt.xlabel('Unit Price')\n",
    "add_value_labels(ax, orientation='h', xspace=15, yspace=5)\n",
    "plt.show()"
   ]
  },
  {
   "cell_type": "markdown",
   "metadata": {},
   "source": [
    "* The labels of the chart above indicate the unit price of these products"
   ]
  },
  {
   "cell_type": "markdown",
   "metadata": {},
   "source": [
    "# 2. Customers Dataframe <a class='anchor' id='2.'></a>"
   ]
  },
  {
   "cell_type": "markdown",
   "metadata": {},
   "source": [
    "## 2.1 Dataframe <a class='anchor' id='2.1'></a>\n",
    "\n",
    "* create a new dataframe grouped by CustomerID\n",
    "* The columns of the new dataframe must be:\n",
    "    * Country: Country of the customer\n",
    "    * Revenue: Sum of all transactions total value (including negative values (returns and discounts))\n",
    "    * Quantity: Sum of all transactions quantities (including negative values (returns only))\n",
    "    * First Transaction: Date of the first transaction of the customer\n",
    "    * Last Transaction: Date of the last transaction of the customer\n",
    "    * Transactions: Total number of transactions made by each customer (include all returns and discounts)"
   ]
  },
  {
   "cell_type": "code",
   "execution_count": null,
   "metadata": {},
   "outputs": [],
   "source": [
    "df_inv['InvoiceDate'] = pd.to_datetime(df_inv['InvoiceDate'])\n",
    "df_inv['InvoiceDate2'] = pd.to_datetime(df_inv['InvoiceDate'])\n",
    "\n",
    "df_cust = df_inv.groupby('CustomerID').agg({'Country':max, 'TotalValue':np.sum, 'Quantity':np.sum, 'InvoiceDate':min, 'InvoiceDate2':max, 'InvoiceNo':'nunique'}).sort_values(by='TotalValue', ascending=False)\n",
    "df_cust = df_cust.rename(columns={'TotalValue':'Revenue', 'InvoiceDate':'First Transaction', 'InvoiceDate2':'Last Transaction', 'InvoiceNo':'Transactions'})\n",
    "df_cust.head()"
   ]
  },
  {
   "cell_type": "markdown",
   "metadata": {},
   "source": [
    "## 2.2 New Features <a class='anchor' id='2.2'></a>"
   ]
  },
  {
   "cell_type": "markdown",
   "metadata": {},
   "source": [
    "### 2.2.1 Base Features \n",
    "\n",
    "* Returns: Number of return transactions\n",
    "* Discounts: Number of discount transactions\n",
    "* Purchases: Number of purchased product transactions"
   ]
  },
  {
   "cell_type": "code",
   "execution_count": null,
   "metadata": {},
   "outputs": [],
   "source": [
    "df_returns = df_inv[(df_inv['StockCode'] != 'D') & (df_inv['Quantity'] < 0)].groupby('CustomerID').agg({'TotalValue':len, 'InvoiceNo':'nunique'})\n",
    "df_cust['Returns'] = df_cust.index.map(df_returns['InvoiceNo'])\n",
    "df_cust.head()"
   ]
  },
  {
   "cell_type": "code",
   "execution_count": null,
   "metadata": {},
   "outputs": [],
   "source": [
    "df_discounts = df_inv[df_inv['StockCode'] == 'D'].groupby('CustomerID').agg({'TotalValue':len})\n",
    "df_cust['Discounts'] = df_cust.index.map(df_discounts['TotalValue'])\n",
    "df_cust.head()"
   ]
  },
  {
   "cell_type": "markdown",
   "metadata": {},
   "source": [
    "Before creating the Purchases column, I will fill all the nan values with 0, to enable the substraction to occur"
   ]
  },
  {
   "cell_type": "code",
   "execution_count": null,
   "metadata": {},
   "outputs": [],
   "source": [
    "df_cust.fillna(0, inplace=True)\n",
    "df_cust['Purchases'] = df_cust['Transactions'] - df_cust['Returns'] - df_cust['Discounts']\n",
    "df_cust.head()"
   ]
  },
  {
   "cell_type": "code",
   "execution_count": null,
   "metadata": {},
   "outputs": [],
   "source": [
    "df_cust.describe()"
   ]
  },
  {
   "cell_type": "code",
   "execution_count": null,
   "metadata": {},
   "outputs": [],
   "source": [
    "print('Number of CustomerIDs with negative TotalValue: ', len(df_cust[df_cust['Revenue'] < 0]))\n",
    "print('Total number of transactions of these CustomerIDs: ', df_cust[df_cust['Revenue'] < 0]['Transactions'].sum())"
   ]
  },
  {
   "cell_type": "markdown",
   "metadata": {},
   "source": [
    "* There are some CustomerIDs with negative TotalValue. These customers have some missing transactions. I will keep their transactions in the dataset, because they contribute to the total number of Customers."
   ]
  },
  {
   "cell_type": "markdown",
   "metadata": {},
   "source": [
    "### 2.2.2 Metric Features\n",
    "\n",
    "* AOV: Average Order Value\n",
    "* CLV: Customer Lifetime Value"
   ]
  },
  {
   "cell_type": "markdown",
   "metadata": {},
   "source": [
    "#### 2.2.2.1 Average Order Value (AOV)\n",
    "\n",
    "<p style='text-align:center'>$AOV = \\frac{Revenue}{Number\\,of\\,Orders}$</p>\n",
    "\n",
    "Where:\n",
    "* Revenue: Revenue column\n",
    "* Number of Orders: Transactions column\n",
    "\n",
    "Reference: [Optimization glossary](https://www.optimizely.com/optimization-glossary/average-order-value/)"
   ]
  },
  {
   "cell_type": "code",
   "execution_count": null,
   "metadata": {},
   "outputs": [],
   "source": [
    "df_cust['AOV'] = df_cust['Revenue']/df_cust['Purchases']\n",
    "df_cust.head()"
   ]
  },
  {
   "cell_type": "markdown",
   "metadata": {},
   "source": [
    "#### 2.2.2.2 Customer Lifetime Value (CLV)\n",
    "\n",
    "<p style='text-align:center'>$CLV = Average\\,Transaction\\,Size\\,x\\,Number\\,of\\,Transactions\\,x\\,Retention\\,Period$</p>\n",
    "\n",
    "Where:\n",
    "* Average Transaction Size: AOV column\n",
    "* Number of Transactions: Average number of transactions per month\n",
    "    * create a new column: Transactions per Month\n",
    "* Retention Period: How long the average customer stick with the brand\n",
    "    * create a variable: retention_period\n",
    "\n",
    "Reference: [Oracle netsuite](https://www.netsuite.com/portal/resource/articles/ecommerce/customer-lifetime-value-clv.shtml)"
   ]
  },
  {
   "cell_type": "code",
   "execution_count": null,
   "metadata": {},
   "outputs": [],
   "source": [
    "last_dataset_date = df_inv['InvoiceDate'].max()\n",
    "last_dataset_date"
   ]
  },
  {
   "cell_type": "code",
   "execution_count": null,
   "metadata": {},
   "outputs": [],
   "source": [
    "df_cust['Transaction Period'] = ((last_dataset_date - df_cust['First Transaction'])/np.timedelta64(1, 'M'))\n",
    "df_cust['Transaction Period'] = df_cust['Transaction Period'].apply(lambda x: x if x > 1 else 1)\n",
    "df_cust['Transactions per Month'] = df_cust['Purchases']/df_cust['Transaction Period']\n",
    "df_cust.head()"
   ]
  },
  {
   "cell_type": "markdown",
   "metadata": {},
   "source": [
    "* To create the 'Transactions per Month' column, I created the 'Transaction Period' column\n",
    "* Transaction Period: result, in months, of the substraction of the final date of the dataset and each respective first transaction\n",
    "* For rows with 'Transaction Period' < 0, I considered the value of 1 for this column\n",
    "* Transaction per Month: divided the total number of purchases of each customer by the 'Transaction Period'. This way we can find out the average number of purchases transactions per month of each customer."
   ]
  },
  {
   "cell_type": "code",
   "execution_count": null,
   "metadata": {},
   "outputs": [],
   "source": [
    "retention_period = np.mean(df_cust['Last Transaction'] - df_cust['First Transaction'])/np.timedelta64(1,'M')\n",
    "retention_period"
   ]
  },
  {
   "cell_type": "markdown",
   "metadata": {},
   "source": [
    "The retention period was calculated by the average value, in months, of the difference between the last transaction and the first transaction of each customer."
   ]
  },
  {
   "cell_type": "code",
   "execution_count": null,
   "metadata": {},
   "outputs": [],
   "source": [
    "df_cust = df_cust.replace([np.inf, -np.inf], 0)\n",
    "df_cust['CLV'] = df_cust['AOV']*df_cust['Transactions per Month']*retention_period\n",
    "df_cust.head()"
   ]
  },
  {
   "cell_type": "markdown",
   "metadata": {},
   "source": [
    "## 2.3 Data Analysis <a class='anchor' id='2.3'></a>"
   ]
  },
  {
   "cell_type": "code",
   "execution_count": null,
   "metadata": {},
   "outputs": [],
   "source": [
    "df_cust.describe()"
   ]
  },
  {
   "cell_type": "markdown",
   "metadata": {},
   "source": [
    "### 2.3.1 Revenue"
   ]
  },
  {
   "cell_type": "code",
   "execution_count": null,
   "metadata": {},
   "outputs": [],
   "source": [
    "df_cust.head(10)"
   ]
  },
  {
   "cell_type": "code",
   "execution_count": null,
   "metadata": {},
   "outputs": [],
   "source": [
    "plt.figure(figsize=(20,10))\n",
    "ax = plt.subplot(111)\n",
    "plt.title('Top 10 revenue by customer')\n",
    "ax.bar(df_cust.index[:10].astype(int).astype(str), df_cust['Revenue'].iloc[:10])\n",
    "plt.ylabel('Revenue')\n",
    "plt.xlabel('Customer ID')\n",
    "add_value_labels(ax, orientation='v', yspace=5)\n",
    "plt.show()"
   ]
  },
  {
   "cell_type": "markdown",
   "metadata": {},
   "source": [
    "* The chart above shows the 10 customers that most contributes to the company's revenue"
   ]
  },
  {
   "cell_type": "code",
   "execution_count": null,
   "metadata": {},
   "outputs": [],
   "source": [
    "plt.figure(figsize=(20,10))\n",
    "ax = plt.subplot(111)\n",
    "plt.title('Top 10 revenue percentage by customer')\n",
    "ax.bar(df_cust.index[:10].astype(int).astype(str), df_cust['Revenue'].iloc[:10]/df_cust['Revenue'].sum())\n",
    "plt.ylabel('Revenue')\n",
    "plt.xlabel('Customer ID')\n",
    "add_value_labels(ax, orientation='v', yspace=5, percentage=True)\n",
    "ax.yaxis.set_major_formatter(mtick.PercentFormatter(1.0))\n",
    "plt.show()"
   ]
  },
  {
   "cell_type": "code",
   "execution_count": null,
   "metadata": {},
   "outputs": [],
   "source": [
    "top_10_customers_revenue = sum(df_cust['Revenue'].iloc[:10]/df_cust['Revenue'].sum())*100\n",
    "top_10_customers_revenue"
   ]
  },
  {
   "cell_type": "markdown",
   "metadata": {},
   "source": [
    "* Some of the customers that most contributes to the revenue are from countries with small number of customers (e.g. Netherlands and EIRE)\n",
    "* The top 10 customers contribute about to 16.5% of the company's total revenue"
   ]
  },
  {
   "cell_type": "markdown",
   "metadata": {},
   "source": [
    "### 2.3.2 Quantities"
   ]
  },
  {
   "cell_type": "code",
   "execution_count": null,
   "metadata": {},
   "outputs": [],
   "source": [
    "df_cust_quantities = df_cust.sort_values(by='Quantity', ascending=False)\n",
    "df_cust_quantities.head(10)"
   ]
  },
  {
   "cell_type": "code",
   "execution_count": null,
   "metadata": {},
   "outputs": [],
   "source": [
    "plt.figure(figsize=(20,10))\n",
    "ax = plt.subplot(111)\n",
    "plt.title('Top 10 quantities by customer')\n",
    "ax.bar(df_cust_quantities.index[:10].astype(int).astype(str), df_cust_quantities['Quantity'].iloc[:10])\n",
    "plt.ylabel('Quantity')\n",
    "plt.xlabel('Customer ID')\n",
    "add_value_labels(ax, orientation='v', yspace=5)\n",
    "plt.show()"
   ]
  },
  {
   "cell_type": "code",
   "execution_count": null,
   "metadata": {},
   "outputs": [],
   "source": [
    "plt.figure(figsize=(20,10))\n",
    "ax = plt.subplot(111)\n",
    "plt.title('Top 10 quantities by customer')\n",
    "ax.bar(df_cust_quantities.index[:10].astype(int).astype(str), df_cust_quantities['Quantity'].iloc[:10]/df_cust_quantities['Quantity'].sum())\n",
    "plt.ylabel('Quantity')\n",
    "plt.xlabel('Customer ID')\n",
    "add_value_labels(ax, orientation='v', yspace=5, percentage=True)\n",
    "ax.yaxis.set_major_formatter(mtick.PercentFormatter(1.0))\n",
    "plt.show()"
   ]
  },
  {
   "cell_type": "code",
   "execution_count": null,
   "metadata": {},
   "outputs": [],
   "source": [
    "top_10_customers_quantity = sum(df_cust['Quantity'].iloc[:10]/df_cust['Quantity'].sum())*100\n",
    "top_10_customers_quantity"
   ]
  },
  {
   "cell_type": "markdown",
   "metadata": {},
   "source": [
    "* Some of the customers that most contributes to the quantity of products bought are from countries with small number of customers (e.g. Netherlands and EIRE)\n",
    "* The top 10 customers contribute about to 15.4% of the company's total quantities sold"
   ]
  },
  {
   "cell_type": "markdown",
   "metadata": {},
   "source": [
    "### 2.3.3 Purchases"
   ]
  },
  {
   "cell_type": "code",
   "execution_count": null,
   "metadata": {},
   "outputs": [],
   "source": [
    "df_cust_purchases = df_cust.sort_values(by='Purchases', ascending=False)\n",
    "df_cust_purchases.head(10)"
   ]
  },
  {
   "cell_type": "code",
   "execution_count": null,
   "metadata": {},
   "outputs": [],
   "source": [
    "plt.figure(figsize=(20,10))\n",
    "ax = plt.subplot(111)\n",
    "plt.title('Top 10 purchases transactions by customer')\n",
    "ax.bar(df_cust_purchases.index[:10].astype(int).astype(str), df_cust_purchases['Purchases'].iloc[:10])\n",
    "plt.ylabel('Purchases')\n",
    "plt.xlabel('Customer ID')\n",
    "add_value_labels(ax, orientation='v', yspace=5)\n",
    "plt.show()"
   ]
  },
  {
   "cell_type": "markdown",
   "metadata": {},
   "source": [
    "### 2.3.4 AOV"
   ]
  },
  {
   "cell_type": "code",
   "execution_count": null,
   "metadata": {},
   "outputs": [],
   "source": [
    "df_cust_aov = df_cust.sort_values(by='AOV', ascending=False)\n",
    "df_cust_aov.head(10)"
   ]
  },
  {
   "cell_type": "code",
   "execution_count": null,
   "metadata": {},
   "outputs": [],
   "source": [
    "plt.figure(figsize=(20,10))\n",
    "ax = plt.subplot(111)\n",
    "plt.title('Top 10 AOV by customer')\n",
    "ax.bar(df_cust_aov.index[:10].astype(int).astype(str), df_cust_aov['AOV'].iloc[:10])\n",
    "plt.ylabel('AOV')\n",
    "plt.xlabel('Customer ID')\n",
    "add_value_labels(ax, orientation='v', yspace=5)\n",
    "plt.show()"
   ]
  },
  {
   "cell_type": "markdown",
   "metadata": {},
   "source": [
    "* The top 10 customers by AOV metric are from very distinct countries\n",
    "* Since we are going to use this metric to cluster the customers and we don't want to exclude any of them only using the country as a condition, we are not going to use the country as a feature"
   ]
  },
  {
   "cell_type": "markdown",
   "metadata": {},
   "source": [
    "### 2.3.5 CLV"
   ]
  },
  {
   "cell_type": "code",
   "execution_count": null,
   "metadata": {},
   "outputs": [],
   "source": [
    "df_cust_clv = df_cust.sort_values(by='CLV', ascending=False)\n",
    "df_cust_clv.head(10)"
   ]
  },
  {
   "cell_type": "code",
   "execution_count": null,
   "metadata": {},
   "outputs": [],
   "source": [
    "plt.figure(figsize=(20,10))\n",
    "ax = plt.subplot(111)\n",
    "plt.title('Top 10 CLV by customer')\n",
    "ax.bar(df_cust_clv.index[:10].astype(int).astype(str), df_cust_clv['CLV'].iloc[:10])\n",
    "plt.ylabel('Purchases')\n",
    "plt.xlabel('Customer ID')\n",
    "add_value_labels(ax, orientation='v', yspace=5)\n",
    "plt.show()"
   ]
  },
  {
   "cell_type": "markdown",
   "metadata": {},
   "source": [
    "## 2.4 Data Preprocessing <a class='anchor' id='2.4'></a>"
   ]
  },
  {
   "cell_type": "code",
   "execution_count": null,
   "metadata": {},
   "outputs": [],
   "source": [
    "df_cust.describe()"
   ]
  },
  {
   "cell_type": "markdown",
   "metadata": {},
   "source": [
    "<b>Checking the skewness of our dataset.</b>\n",
    "\n",
    "* A normally distribuited data has a skewness close to zero.\n",
    "* Skewness greather than zero means that there is more weight in the left side of the data.\n",
    "* In another hand, skewness smaller than 0 means that there is more weight in the right side of the data\n",
    "\n",
    "<p align='center'>    <img src='images/skew.png'>\n",
    "</p>"
   ]
  },
  {
   "cell_type": "code",
   "execution_count": null,
   "metadata": {},
   "outputs": [],
   "source": [
    "df_cust.skew()"
   ]
  },
  {
   "cell_type": "code",
   "execution_count": null,
   "metadata": {},
   "outputs": [],
   "source": [
    "sns.set(style='white',font_scale=1.3, rc={'figure.figsize':(20,20)})\n",
    "ax=df_cust.hist(bins=100)"
   ]
  },
  {
   "cell_type": "code",
   "execution_count": null,
   "metadata": {},
   "outputs": [],
   "source": [
    "numerics = ['int16', 'int32', 'int64', 'float16', 'float32', 'float64']\n",
    "std_scaler = StandardScaler()\n",
    "data_cluster = df_cust.select_dtypes(include=numerics).copy()\n",
    "data_cluster[data_cluster.columns] = std_scaler.fit_transform(data_cluster)"
   ]
  },
  {
   "cell_type": "code",
   "execution_count": null,
   "metadata": {},
   "outputs": [],
   "source": [
    "data_cluster.describe()"
   ]
  },
  {
   "cell_type": "code",
   "execution_count": null,
   "metadata": {},
   "outputs": [],
   "source": [
    "columns = ['Revenue', 'Purchases', 'AOV', 'CLV']\n",
    "data_cluster = data_cluster[columns]"
   ]
  },
  {
   "cell_type": "code",
   "execution_count": null,
   "metadata": {},
   "outputs": [],
   "source": [
    "pca_2 = PCA(2)\n",
    "pca_2_result = pca_2.fit_transform(data_cluster)\n",
    "\n",
    "print ('Cumulative variance explained by 2 principal components: {:.2%}'.format(np.sum(pca_2.explained_variance_ratio_)))"
   ]
  },
  {
   "cell_type": "code",
   "execution_count": null,
   "metadata": {},
   "outputs": [],
   "source": [
    "sns.set(style='white', rc={'figure.figsize':(9,6)},font_scale=1.1)\n",
    "\n",
    "plt.scatter(x=pca_2_result[:, 0], y=pca_2_result[:, 1], lw=0.1)\n",
    "plt.xlabel('Principal Component 1')\n",
    "plt.ylabel('Principal Component 2')\n",
    "plt.title('Data represented by the 2 strongest principal components',fontweight='bold')\n",
    "plt.show()"
   ]
  },
  {
   "cell_type": "code",
   "execution_count": null,
   "metadata": {},
   "outputs": [],
   "source": [
    "sns.set(style='white', rc={'figure.figsize':(9,6)},font_scale=1.1)\n",
    "\n",
    "plt.scatter(x=pca_2_result[:, 0], y=pca_2_result[:, 1], lw=0.1, alpha=0.2)\n",
    "plt.xlabel('Principal Component 1')\n",
    "plt.ylabel('Principal Component 2')\n",
    "plt.title('Data represented by the 2 strongest principal components',fontweight='bold')\n",
    "plt.show()"
   ]
  },
  {
   "cell_type": "code",
   "execution_count": null,
   "metadata": {},
   "outputs": [],
   "source": [
    "fig = plt.figure(figsize=(8, 4))\n",
    "plt.imshow(pca_2.components_, interpolation = 'none', cmap = 'plasma')\n",
    "feature_names = list(data_cluster.columns)\n",
    "\n",
    "plt.gca().set_xticks(np.arange(-.5, len(feature_names)-.5));\n",
    "plt.gca().set_yticks(np.arange(0.5, 2));\n",
    "plt.gca().set_xticklabels(feature_names, rotation=90, ha='left', fontsize=12);\n",
    "plt.gca().set_yticklabels(['First PC', 'Second PC'], va='bottom', fontsize=12);\n",
    "\n",
    "plt.colorbar(orientation='horizontal', ticks=[pca_2.components_.min(), 0, \n",
    "                                              pca_2.components_.max()], pad=0.65);"
   ]
  },
  {
   "cell_type": "markdown",
   "metadata": {},
   "source": [
    "# 3. Model <a class='anchor' id='3.'></a>"
   ]
  },
  {
   "cell_type": "markdown",
   "metadata": {},
   "source": [
    "## 3.1 K-Means <a class='anchor' id='3.1'></a>\n",
    "In order to define the number of clusters (K), we will combine the Silhouette Score and Inertia (Elbow plot analysis) techniques"
   ]
  },
  {
   "cell_type": "code",
   "execution_count": null,
   "metadata": {},
   "outputs": [],
   "source": [
    "inertia = []\n",
    "for i in tqdm(range(2,10)):\n",
    "    kmeans = cluster.KMeans(n_clusters=i,\n",
    "               init='k-means++',\n",
    "               n_init=15,\n",
    "               max_iter=500)\n",
    "    kmeans.fit(data_cluster)\n",
    "    inertia.append(kmeans.inertia_)"
   ]
  },
  {
   "cell_type": "code",
   "execution_count": null,
   "metadata": {},
   "outputs": [],
   "source": [
    "silhouette = {}\n",
    "for i in tqdm(range(2,10)):\n",
    "    kmeans = cluster.KMeans(n_clusters=i,\n",
    "               init='k-means++',\n",
    "               n_init=15,\n",
    "               max_iter=500)\n",
    "    kmeans.fit(data_cluster)\n",
    "    silhouette[i] = silhouette_score(data_cluster, kmeans.labels_, metric='euclidean')"
   ]
  },
  {
   "cell_type": "code",
   "execution_count": null,
   "metadata": {},
   "outputs": [],
   "source": [
    "sns.set(style='white',font_scale=1.1, rc={'figure.figsize':(12,5)})\n",
    "\n",
    "plt.subplot(1, 2, 1)\n",
    "\n",
    "plt.plot(range(2,len(inertia)+2), inertia, marker='o',lw=2,ms=8)\n",
    "plt.xlabel('Number of clusters')\n",
    "plt.title('K-means Inertia',fontweight='bold')\n",
    "plt.grid(True)\n",
    "\n",
    "plt.subplot(1, 2, 2)\n",
    "\n",
    "plt.bar(range(len(silhouette)), list(silhouette.values()), align='center',width=0.5)\n",
    "plt.xticks(range(len(silhouette)), list(silhouette.keys()))\n",
    "plt.grid()\n",
    "plt.title('Silhouette Score',fontweight='bold')\n",
    "plt.xlabel('Number of Clusters')\n",
    "\n",
    "\n",
    "plt.show()"
   ]
  },
  {
   "cell_type": "code",
   "execution_count": null,
   "metadata": {},
   "outputs": [],
   "source": [
    "kmeans = cluster.KMeans(n_clusters=3,init='k-means++')\n",
    "kmeans_labels = kmeans.fit_predict(data_cluster)\n",
    "\n",
    "kmeans_centroids = kmeans.cluster_centers_\n",
    "kmeans_centroids_pca = pca_2.transform(kmeans_centroids)\n",
    "\n",
    "pd.Series(kmeans_labels).value_counts()"
   ]
  },
  {
   "cell_type": "code",
   "execution_count": null,
   "metadata": {},
   "outputs": [],
   "source": [
    "sns.set(style='white', rc={'figure.figsize':(9,6)},font_scale=1.1)\n",
    "\n",
    "plt.scatter(x=pca_2_result[:, 0], y=pca_2_result[:, 1], c=kmeans_labels, cmap='autumn')\n",
    "plt.scatter(kmeans_centroids_pca[:, 0], kmeans_centroids_pca[:, 1],\n",
    "            marker='x', s=169, linewidths=3,\n",
    "            color='black', zorder=10,lw=3)\n",
    "plt.xlabel('Principal Component 1')\n",
    "plt.ylabel('Principal Component 2')\n",
    "plt.title('Clustered Data (PCA visualization)',fontweight='bold')\n",
    "plt.savefig('images/kmeans')\n",
    "plt.show()"
   ]
  },
  {
   "cell_type": "markdown",
   "metadata": {},
   "source": [
    "## 3.2 Agglomerative Clustering <a class='anchor' id='3.2'></a>\n",
    "In order to define the number of clusters (K), we will use a dendogram"
   ]
  },
  {
   "cell_type": "code",
   "execution_count": null,
   "metadata": {
    "scrolled": false
   },
   "outputs": [],
   "source": [
    "plt.figure(figsize=(16,10))\n",
    "dendrogram(ward(data_cluster))\n",
    "plt.show()"
   ]
  },
  {
   "cell_type": "code",
   "execution_count": null,
   "metadata": {},
   "outputs": [],
   "source": [
    "agg_clust = cluster.AgglomerativeClustering(n_clusters=2)\n",
    "agg_clust_labels = agg_clust.fit_predict(data_cluster)\n",
    "\n",
    "clf = NearestCentroid()\n",
    "clf.fit(data_cluster, agg_clust_labels)\n",
    "\n",
    "agg_clust_centroids = clf.centroids_\n",
    "agg_clust_centroids_pca = pca_2.transform(agg_clust_centroids)\n",
    "\n",
    "pd.Series(agg_clust_labels).value_counts()"
   ]
  },
  {
   "cell_type": "code",
   "execution_count": null,
   "metadata": {
    "scrolled": false
   },
   "outputs": [],
   "source": [
    "sns.set(style='white', rc={'figure.figsize':(9,6)},font_scale=1.1)\n",
    "\n",
    "plt.scatter(x=pca_2_result[:, 0], y=pca_2_result[:, 1], c=agg_clust_labels, cmap='autumn')\n",
    "plt.scatter(agg_clust_centroids_pca[:, 0], agg_clust_centroids_pca[:, 1],\n",
    "            marker='x', s=169, linewidths=3,\n",
    "            color='black', zorder=10,lw=3)\n",
    "plt.xlabel('Principal Component 1')\n",
    "plt.ylabel('Principal Component 2')\n",
    "plt.title('Clustered Data (PCA visualization)',fontweight='bold')\n",
    "plt.show()"
   ]
  },
  {
   "cell_type": "markdown",
   "metadata": {},
   "source": [
    "## 3.3 DBSCAN <a class='anchor' id='3.3'></a>"
   ]
  },
  {
   "cell_type": "code",
   "execution_count": null,
   "metadata": {},
   "outputs": [],
   "source": [
    "dbscan = cluster.DBSCAN(eps=2,min_samples=2)\n",
    "dbscan_labels = dbscan.fit_predict(data_cluster)\n",
    "\n",
    "clf = NearestCentroid()\n",
    "clf.fit(data_cluster, dbscan_labels)\n",
    "\n",
    "dbscan_centroids = clf.centroids_\n",
    "dbscan_centroids_pca = pca_2.transform(dbscan_centroids)\n",
    "\n",
    "pd.Series(dbscan_labels).value_counts()"
   ]
  },
  {
   "cell_type": "code",
   "execution_count": null,
   "metadata": {},
   "outputs": [],
   "source": [
    "sns.set(style='white', rc={'figure.figsize':(9,6)},font_scale=1.1)\n",
    "\n",
    "plt.scatter(x=pca_2_result[:, 0], y=pca_2_result[:, 1], c=dbscan_labels, cmap='autumn')\n",
    "plt.scatter(dbscan_centroids_pca[:, 0], dbscan_centroids_pca[:, 1],\n",
    "            marker='x', s=169, linewidths=3,\n",
    "            color='black', zorder=10,lw=3)\n",
    "plt.xlabel('Principal Component 1')\n",
    "plt.ylabel('Principal Component 2')\n",
    "plt.title('Clustered Data (PCA visualization)',fontweight='bold')\n",
    "plt.show()"
   ]
  },
  {
   "cell_type": "markdown",
   "metadata": {},
   "source": [
    "Analysing the 3 clustering algorithms results, I decided to use the <b>K-Means</b> algorithm. The 3 clusters provided the are:\n",
    "* 0: Normal customers\n",
    "* 1: Highest value customers\n",
    "* 2: High value customers\n",
    "\n",
    "We will include the clusters 1 and 2 into the Insiders group"
   ]
  },
  {
   "cell_type": "code",
   "execution_count": null,
   "metadata": {},
   "outputs": [],
   "source": [
    "df_clust = df_cust.copy()\n",
    "df_clust['Cluster'] = kmeans_labels\n",
    "df_clust.describe()"
   ]
  },
  {
   "cell_type": "markdown",
   "metadata": {},
   "source": [
    "### Silhouette score\n",
    "* It displays a measure of how close each point in a cluster is to points in the neighbouring clusters.<br>\n",
    "* The higher the Silhouette Coefficients (the closer to +1), the further away the cluster’s samples are from the neighbouring clusters samples. \n",
    "* A value of 0 indicates that the sample is on or very close to the decision boundary between two neighbouring clusters. \n",
    "* Negative values, instead, indicate that those samples might have been assigned to the wrong cluster. \n",
    "* Averaging the Silhouette Coefficients, we can get to a global Silhouette Score which can be used to describe the entire population’s performance with a single value.\n",
    "\n",
    "Reference: [Performance Metrics in Machine Learning — Part 3: Clustering](https://towardsdatascience.com/performance-metrics-in-machine-learning-part-3-clustering-d69550662dc6)"
   ]
  },
  {
   "cell_type": "code",
   "execution_count": null,
   "metadata": {},
   "outputs": [],
   "source": [
    "print('The average silhouette score of the k-means algorithm with 3 clusters is {:.2%}'.format(silhouette[3]))"
   ]
  },
  {
   "cell_type": "markdown",
   "metadata": {},
   "source": [
    "# 4. Conclusion <a class='anchor' id='4.'></a>"
   ]
  },
  {
   "cell_type": "code",
   "execution_count": null,
   "metadata": {},
   "outputs": [],
   "source": [
    "df_insiders = df_clust[df_clust['Cluster'] != 0]\n",
    "df_insiders.head()"
   ]
  },
  {
   "cell_type": "markdown",
   "metadata": {},
   "source": [
    "## 4.1 Who are the people eligible to participate in the Insiders program? <a class='anchor' id='4.1'></a>"
   ]
  },
  {
   "cell_type": "code",
   "execution_count": null,
   "metadata": {},
   "outputs": [],
   "source": [
    "df_insiders.index"
   ]
  },
  {
   "cell_type": "markdown",
   "metadata": {},
   "source": [
    "* The customers eligible to participate in the Insiders program are all people from the clusters 1 and 2 (high value customers and highest value customers).\n",
    "* The list of all eligible customers can be consulted above"
   ]
  },
  {
   "cell_type": "markdown",
   "metadata": {},
   "source": [
    "## 4.2 How many customers will be part of the group? <a class='anchor' id='4.2|'></a>"
   ]
  },
  {
   "cell_type": "code",
   "execution_count": null,
   "metadata": {},
   "outputs": [],
   "source": [
    "len_insiders = len(df_insiders.index)\n",
    "print('The Insiders group will be formed by {} customers'.format(len_insiders))"
   ]
  },
  {
   "cell_type": "markdown",
   "metadata": {},
   "source": [
    "## 4.3 What are the main characteristics of these customers? <a class='anchor' id='4.3'></a>"
   ]
  },
  {
   "cell_type": "code",
   "execution_count": null,
   "metadata": {},
   "outputs": [],
   "source": [
    "df_insiders.describe(include='all')"
   ]
  },
  {
   "cell_type": "code",
   "execution_count": null,
   "metadata": {},
   "outputs": [],
   "source": [
    "df_insiders_products = df_inv[df_inv['CustomerID'].isin(df_insiders.index)].groupby('Description').agg({'TotalValue':np.sum, 'Quantity':np.sum, 'InvoiceNo':'nunique', 'Country':'nunique', 'UnitPrice':np.mean}).sort_values(by='Quantity', ascending=False)\n",
    "df_insiders_products.head(10)"
   ]
  },
  {
   "cell_type": "code",
   "execution_count": null,
   "metadata": {},
   "outputs": [],
   "source": [
    "plt.figure(figsize=(20,10))\n",
    "ax = plt.subplot(111)\n",
    "plt.title('Top 10 products bought by the Insiders')\n",
    "ax.barh(df_insiders_products.index[:10][::-1], df_insiders_products['Quantity'][:10][::-1])\n",
    "plt.xlabel('Quantity')\n",
    "add_value_labels(ax, orientation='h', xspace=25, yspace=5)\n",
    "plt.show()"
   ]
  },
  {
   "cell_type": "code",
   "execution_count": null,
   "metadata": {},
   "outputs": [],
   "source": [
    "df_insiders_country = df_inv[df_inv['CustomerID'].isin(df_insiders.index)].groupby('Country').agg({'TotalValue':np.sum, 'Quantity':np.sum, 'InvoiceNo':'nunique', 'Country':'nunique', 'UnitPrice':np.mean}).sort_values(by='TotalValue', ascending=False)\n",
    "df_insiders_country.head()"
   ]
  },
  {
   "cell_type": "code",
   "execution_count": null,
   "metadata": {},
   "outputs": [],
   "source": [
    "plt.figure(figsize=(25,10))\n",
    "ax = plt.subplot(111)\n",
    "plt.title('Insiders customers revenue by country')\n",
    "ax.barh(df_insiders_country.index[::-1], df_insiders_country['TotalValue'][::-1])\n",
    "plt.xlabel('Revenue')\n",
    "add_value_labels(ax, orientation='h', xspace=30)\n",
    "plt.show()"
   ]
  },
  {
   "cell_type": "code",
   "execution_count": null,
   "metadata": {},
   "outputs": [],
   "source": [
    "df_insiders_products_country = df_inv[df_inv['CustomerID'].isin(df_insiders.index)].groupby(['Country','Description']).agg({'TotalValue':np.sum, 'Quantity':np.sum, 'InvoiceNo':'nunique', 'Country':'nunique', 'UnitPrice':np.mean}).sort_values(by='Quantity', ascending=False)\n",
    "df_insiders_products_country.head()"
   ]
  },
  {
   "cell_type": "code",
   "execution_count": null,
   "metadata": {},
   "outputs": [],
   "source": [
    "df_insiders_products_country.groupby(level=0).head(1)"
   ]
  },
  {
   "cell_type": "markdown",
   "metadata": {},
   "source": [
    "## 4.4 What is the percentage of revenue contribution, coming from Insiders? <a class='anchor' id='4.4'></a>"
   ]
  },
  {
   "cell_type": "code",
   "execution_count": null,
   "metadata": {},
   "outputs": [],
   "source": [
    "insiders_percentage = len(df_insiders)/len(df_clust)\n",
    "revenue_percentage = df_insiders['Revenue'].sum()/df_clust['Revenue'].sum()\n",
    "print('The percentage of revenue contribution of the Insiders is {:.2%}.'.format(revenue_percentage))"
   ]
  },
  {
   "cell_type": "code",
   "execution_count": null,
   "metadata": {},
   "outputs": [],
   "source": [
    "sns.set(style='white',font_scale=1.1, rc={'figure.figsize':(12,5)})\n",
    "colors = ['red', 'darkgrey']\n",
    "\n",
    "ax = plt.subplot(1, 2, 1)\n",
    "sizes = [insiders_percentage, 1-insiders_percentage]\n",
    "plt.title('All In One Place customers', fontweight='bold')\n",
    "_, _, autopcts = ax.pie(sizes, autopct='%1.1f%%', pctdistance=1.25, colors=colors)\n",
    "plt.setp(autopcts, **{'fontsize':15, 'fontweight': 'bold'})\n",
    "\n",
    "ax = plt.subplot(1, 2, 2)\n",
    "sizes = [revenue_percentage, 1-revenue_percentage]\n",
    "plt.title('All In One Place revenue', fontweight='bold')\n",
    "_, _, autopcts = ax.pie(sizes, autopct='%1.1f%%', colors=colors)\n",
    "plt.setp(autopcts, **{'fontsize':15, 'fontweight': 'bold'})\n",
    "\n",
    "\n",
    "legend = ['Insiders', 'Normal Customers']\n",
    "plt.legend(legend, loc=3, bbox_to_anchor=(-0.4,0), framealpha=0.0, prop={'size': 12})\n",
    "\n",
    "plt.show()"
   ]
  },
  {
   "cell_type": "markdown",
   "metadata": {},
   "source": [
    "## 4.5 What is this group's revenue expectation for the coming months? <a class='anchor' id='4.5'></a>"
   ]
  },
  {
   "cell_type": "code",
   "execution_count": null,
   "metadata": {},
   "outputs": [],
   "source": [
    "aov = df_insiders.describe()['AOV'].loc['mean']\n",
    "transactions_per_month = df_insiders.describe()['Transactions per Month'].loc['mean']\n",
    "individual_revenue_expectation = aov*transactions_per_month\n",
    "total_revenue_expectation = individual_revenue_expectation * len_insiders\n",
    "print(\"The Insiders group revenue expectation for the next months is {:,.2f} per month\".format(total_revenue_expectation))"
   ]
  },
  {
   "cell_type": "markdown",
   "metadata": {},
   "source": [
    "## 4.6 What are the conditions for a person to be eligible for Insiders? <a class='anchor' id='4.6'></a>"
   ]
  },
  {
   "cell_type": "markdown",
   "metadata": {},
   "source": [
    "* After computing the person data (Revenue, Number of Purchase Orders, AOV and CLV), the system will evaluate to what cluster this customer belongs.\n",
    "* In general, after the PCA transformation needs to have a smaller euclidean distance from any of the centroids from the clusters 1 and 2 in comparison to the euclidean distance to the centroid of cluster 0."
   ]
  },
  {
   "cell_type": "code",
   "execution_count": null,
   "metadata": {},
   "outputs": [],
   "source": [
    "new_customer = np.array([20,0])\n",
    "new_customer\n",
    "\n",
    "sns.set(style='white', rc={'figure.figsize':(9,6)},font_scale=1.1)\n",
    "\n",
    "plt.scatter(x=pca_2_result[:, 0], y=pca_2_result[:, 1], c=kmeans_labels, cmap='autumn')\n",
    "plt.scatter(kmeans_centroids_pca[:, 0], kmeans_centroids_pca[:, 1],\n",
    "            marker='x', s=169, linewidths=3,\n",
    "            color='black', zorder=10,lw=3)\n",
    "plt.scatter(new_customer[0], new_customer[1], marker='x', s=169, linewidths=3,\n",
    "            color='blue', zorder=10,lw=3)\n",
    "plt.xlabel('Principal Component 1')\n",
    "plt.ylabel('Principal Component 2')\n",
    "plt.title('Clustered Data (PCA visualization)',fontweight='bold')\n",
    "plt.show()\n",
    "\n",
    "i=0\n",
    "for center in kmeans_centroids_pca:\n",
    "    print('Euclidean distance o centroid {}: {:.2f}'.format(i,distance.euclidean(center, new_customer)))\n",
    "    i+=1"
   ]
  },
  {
   "cell_type": "markdown",
   "metadata": {},
   "source": [
    "* In the example above, the customer (marked by the blue X) would be classified in the cluster 1 (Highest value customers), because the lowest euclidean distance found was from centroid 1.\n",
    "* One condition to be eligible for the Insiders program is to maintain classified in cluster 1 or 2 for at least 6 months."
   ]
  },
  {
   "cell_type": "markdown",
   "metadata": {},
   "source": [
    "## 4.7 What are the conditions for a person to be removed from Insiders? <a class='anchor' id='4.7'></a>"
   ]
  },
  {
   "cell_type": "markdown",
   "metadata": {},
   "source": [
    "* To be removed from the Insiders group, a customer needs to be classified in cluster 0 (Normal customers) for at least 3 months in a row.\n",
    "* Another way is: every 365 days, the data of a customer in this period will be used to classify him/her into the 3 clusters. If the customer is classified as a normal customer in this one year interval, he/she will be removed from the Insiders program."
   ]
  },
  {
   "cell_type": "markdown",
   "metadata": {},
   "source": [
    "## 4.8 What is the guarantee that the Insiders program is better than the rest of the base? <a class='anchor' id='4.8'></a>"
   ]
  },
  {
   "cell_type": "code",
   "execution_count": null,
   "metadata": {},
   "outputs": [],
   "source": [
    "# Normal customers\n",
    "df_clust[df_clust['Cluster'] == 0].describe().loc['mean']"
   ]
  },
  {
   "cell_type": "code",
   "execution_count": null,
   "metadata": {},
   "outputs": [],
   "source": [
    "# Insiders\n",
    "df_insiders.describe().loc['mean']"
   ]
  },
  {
   "cell_type": "code",
   "execution_count": null,
   "metadata": {},
   "outputs": [],
   "source": [
    "df_clust.corr()['Cluster'].sort_values(ascending=False)"
   ]
  },
  {
   "cell_type": "markdown",
   "metadata": {},
   "source": [
    "* As we can compare, all relevant mean values are way higher in the Insiders group.\n",
    "* Since new customers that becomes eligible for the program will eventually be part of the program and customers that doesn't keep their averages enough will be removed, we guarantee that the Insiders will always be better than the rest."
   ]
  },
  {
   "cell_type": "markdown",
   "metadata": {},
   "source": [
    "## 4.9 What actions can the marketing team take to increase revenue? <a class='anchor' id='4.9'></a>"
   ]
  },
  {
   "cell_type": "markdown",
   "metadata": {},
   "source": [
    "1. Create a survey to have some feedbacks from customers and take actions to improve in these lack points\n",
    "\n",
    "Consider asking the following questions: \n",
    "\n",
    "* How do you go about searching for and selecting products on our site? \n",
    "* Is there any product you searched for but couldn’t find? \n",
    "* Which aspects of our site/products do you like most? \n",
    "* Which improvements in your life or business have you seen after using our site? \n",
    "* If there was one thing we could do better what would it be? \n",
    "\n",
    "2. Create some personalizations for the customers from different countries\n",
    "\n",
    "We know by now that personalization can deliver five to eight times the ROI on marketing spend, and can lift sales by 10% or more. With the help of omnichannel personalization engines, marketers can leverage prior behavioral data and apply micro-segmentation as well as machine learning algorithms to personalize the buying experiences of their most valuable customers.\n",
    "\n",
    "For example, a large U.S. fashion retailer with six major sub-brands encouraged visitors to browse through more products by converting every homepage component into a dynamic element that targets different audience segments.\n",
    "\n",
    "Reference: [Targeting your most valuable customers in a post-Pareto world](https://www.dynamicyield.com/lesson/targeting-high-value-customers/)"
   ]
  }
 ],
 "metadata": {
  "kernelspec": {
   "display_name": "Python 3 (ipykernel)",
   "language": "python",
   "name": "python3"
  },
  "language_info": {
   "codemirror_mode": {
    "name": "ipython",
    "version": 3
   },
   "file_extension": ".py",
   "mimetype": "text/x-python",
   "name": "python",
   "nbconvert_exporter": "python",
   "pygments_lexer": "ipython3",
   "version": "3.9.2"
  }
 },
 "nbformat": 4,
 "nbformat_minor": 4
}
